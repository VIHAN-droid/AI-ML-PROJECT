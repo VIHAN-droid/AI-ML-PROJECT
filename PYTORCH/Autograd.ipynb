{
  "nbformat": 4,
  "nbformat_minor": 0,
  "metadata": {
    "colab": {
      "provenance": [],
      "authorship_tag": "ABX9TyOAsgGWV13eXRnSmjKiTS4f",
      "include_colab_link": true
    },
    "kernelspec": {
      "name": "python3",
      "display_name": "Python 3"
    },
    "language_info": {
      "name": "python"
    }
  },
  "cells": [
    {
      "cell_type": "markdown",
      "metadata": {
        "id": "view-in-github",
        "colab_type": "text"
      },
      "source": [
        "<a href=\"https://colab.research.google.com/github/VIHAN-droid/AI-ML-PROJECT/blob/main/PYTORCH/Autograd.ipynb\" target=\"_parent\"><img src=\"https://colab.research.google.com/assets/colab-badge.svg\" alt=\"Open In Colab\"/></a>"
      ]
    },
    {
      "cell_type": "code",
      "execution_count": 1,
      "metadata": {
        "id": "taM-0KPt8QM1"
      },
      "outputs": [],
      "source": [
        "# USED FOR CALCULATING DIFFERENTITATION"
      ]
    },
    {
      "cell_type": "code",
      "source": [
        "import torch"
      ],
      "metadata": {
        "id": "RbM0ErKb8fvM"
      },
      "execution_count": 2,
      "outputs": []
    },
    {
      "cell_type": "code",
      "source": [
        "# use floating pts for calculation diff\n",
        "x = torch.tensor([3.0], requires_grad=True) # set it true whenever you want to calculate the differentitation\n",
        "y = x**2\n",
        "y.backward(retain_graph=True)  # calculates the differentitation ||  set retain graph to true if val of dy/dx can used afterwards like in dz/dx in next cell\n",
        "x.grad  # shows the output after diff"
      ],
      "metadata": {
        "colab": {
          "base_uri": "https://localhost:8080/"
        },
        "id": "jaTGTseE8fyG",
        "outputId": "2446c191-13c1-4c8a-e998-3111de656cf8"
      },
      "execution_count": 26,
      "outputs": [
        {
          "output_type": "execute_result",
          "data": {
            "text/plain": [
              "tensor([6.])"
            ]
          },
          "metadata": {},
          "execution_count": 26
        }
      ]
    },
    {
      "cell_type": "code",
      "source": [
        "z = torch.sin(y)\n",
        "z.backward()\n",
        "x.grad"
      ],
      "metadata": {
        "colab": {
          "base_uri": "https://localhost:8080/"
        },
        "id": "RNYYV2_d8f0j",
        "outputId": "8a96fdda-c487-4a0d-c8e1-b2852ccb32cd"
      },
      "execution_count": 27,
      "outputs": [
        {
          "output_type": "execute_result",
          "data": {
            "text/plain": [
              "tensor([0.5332])"
            ]
          },
          "metadata": {},
          "execution_count": 27
        }
      ]
    },
    {
      "cell_type": "code",
      "source": [
        "x = torch.tensor([6.7])\n",
        "y = torch.tensor([0.0])"
      ],
      "metadata": {
        "id": "7Ro3XrXt8f3b"
      },
      "execution_count": 38,
      "outputs": []
    },
    {
      "cell_type": "code",
      "source": [
        "w = torch.tensor([1.0], requires_grad=True)\n",
        "b = torch.tensor([0.0], requires_grad=True)"
      ],
      "metadata": {
        "id": "TISZz8PO8f6Q"
      },
      "execution_count": 40,
      "outputs": []
    },
    {
      "cell_type": "code",
      "source": [
        "z = w*x + b\n",
        "z"
      ],
      "metadata": {
        "colab": {
          "base_uri": "https://localhost:8080/"
        },
        "id": "kXiDS3DM8f8-",
        "outputId": "9b6e87fc-67b8-42f5-e365-01371f108a8e"
      },
      "execution_count": 41,
      "outputs": [
        {
          "output_type": "execute_result",
          "data": {
            "text/plain": [
              "tensor([6.7000], grad_fn=<AddBackward0>)"
            ]
          },
          "metadata": {},
          "execution_count": 41
        }
      ]
    },
    {
      "cell_type": "code",
      "source": [
        "y_pred = torch.sigmoid(z)\n",
        "y_pred"
      ],
      "metadata": {
        "colab": {
          "base_uri": "https://localhost:8080/"
        },
        "id": "52_OEvbL8gAY",
        "outputId": "5aefa20c-49fc-4eaa-91fa-123daccb6055"
      },
      "execution_count": 42,
      "outputs": [
        {
          "output_type": "execute_result",
          "data": {
            "text/plain": [
              "tensor([0.9988], grad_fn=<SigmoidBackward0>)"
            ]
          },
          "metadata": {},
          "execution_count": 42
        }
      ]
    },
    {
      "cell_type": "code",
      "source": [
        "def binary_cross_entropy_loss(prediction, target):\n",
        "    epsilon = 1e-8  # To prevent log(0)\n",
        "    prediction = torch.clamp(prediction, epsilon, 1 - epsilon)\n",
        "    return -(target * torch.log(prediction) + (1 - target) * torch.log(1 - prediction))\n",
        "\n",
        "loss = binary_cross_entropy_loss(y_pred,y)\n",
        "loss"
      ],
      "metadata": {
        "colab": {
          "base_uri": "https://localhost:8080/"
        },
        "id": "_62296OHAHeh",
        "outputId": "5c28c118-8008-48c9-edc7-daf8ace6adeb"
      },
      "execution_count": 43,
      "outputs": [
        {
          "output_type": "execute_result",
          "data": {
            "text/plain": [
              "tensor([6.7012], grad_fn=<NegBackward0>)"
            ]
          },
          "metadata": {},
          "execution_count": 43
        }
      ]
    },
    {
      "cell_type": "code",
      "source": [
        "loss.backward()\n",
        "print(w.grad)\n",
        "print(b.grad) # these are the coefficients"
      ],
      "metadata": {
        "colab": {
          "base_uri": "https://localhost:8080/"
        },
        "id": "zVw--OPTAHhI",
        "outputId": "b0dcc3cb-fc66-4eed-b70c-4d674981c537"
      },
      "execution_count": 44,
      "outputs": [
        {
          "output_type": "stream",
          "name": "stdout",
          "text": [
            "tensor([6.6918])\n",
            "tensor([0.9988])\n"
          ]
        }
      ]
    },
    {
      "cell_type": "code",
      "source": [
        "# if u run a grad in loop then its imp to clear the tensor having grad value otherwise it keeps getting added\n",
        "# do -> x.grad.zero_()\n",
        "\n",
        "x = torch.tensor([3.0],requires_grad=True)\n",
        "for i in range(5):\n",
        "  y = x**2\n",
        "  y.backward()\n",
        "  print(x.grad)\n",
        "  x.grad.zero_()  # whenever u add _ after fn it makes the changes inplace"
      ],
      "metadata": {
        "colab": {
          "base_uri": "https://localhost:8080/"
        },
        "id": "eGJkaGxOAHjp",
        "outputId": "0a7f26b8-fe55-4b86-8b21-0b1c34e4a12a"
      },
      "execution_count": 51,
      "outputs": [
        {
          "output_type": "stream",
          "name": "stdout",
          "text": [
            "tensor([6.])\n",
            "tensor([6.])\n",
            "tensor([6.])\n",
            "tensor([6.])\n",
            "tensor([6.])\n"
          ]
        }
      ]
    },
    {
      "cell_type": "code",
      "source": [],
      "metadata": {
        "id": "s7S09WEeAHnL"
      },
      "execution_count": null,
      "outputs": []
    }
  ]
}