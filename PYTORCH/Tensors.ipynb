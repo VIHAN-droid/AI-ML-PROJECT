{
  "nbformat": 4,
  "nbformat_minor": 0,
  "metadata": {
    "colab": {
      "provenance": [],
      "authorship_tag": "ABX9TyPPwk7ytbqa0qDnPBWafCiE",
      "include_colab_link": true
    },
    "kernelspec": {
      "name": "python3",
      "display_name": "Python 3"
    },
    "language_info": {
      "name": "python"
    }
  },
  "cells": [
    {
      "cell_type": "markdown",
      "metadata": {
        "id": "view-in-github",
        "colab_type": "text"
      },
      "source": [
        "<a href=\"https://colab.research.google.com/github/VIHAN-droid/AI-ML-PROJECT/blob/main/PYTORCH/Tensors.ipynb\" target=\"_parent\"><img src=\"https://colab.research.google.com/assets/colab-badge.svg\" alt=\"Open In Colab\"/></a>"
      ]
    },
    {
      "cell_type": "markdown",
      "source": [
        "# TENSORS"
      ],
      "metadata": {
        "id": "QjzVHkLjRD5e"
      }
    },
    {
      "cell_type": "code",
      "execution_count": null,
      "metadata": {
        "id": "fo9_ssNJQ3cV"
      },
      "outputs": [],
      "source": [
        "'''\n",
        "tensors are multi dimensional arrays\n",
        "0-dim : numbers\n",
        "1-dim : arrays/collection of nums\n",
        "2-dim : grayscale image\n",
        "3-dim : rgb image\n",
        "4-dim : batches of rbg image\n",
        "5-dim : video data -> combination of frames\n",
        "'''"
      ]
    },
    {
      "cell_type": "code",
      "source": [
        "import torch"
      ],
      "metadata": {
        "id": "vJRfhIBKSf8J"
      },
      "execution_count": 1,
      "outputs": []
    },
    {
      "cell_type": "code",
      "source": [
        "torch.empty(2,3) # creates an empty(garbage values) tensor of shape -> (2,3)"
      ],
      "metadata": {
        "colab": {
          "base_uri": "https://localhost:8080/"
        },
        "id": "yEx7SOpwSgth",
        "outputId": "c342d377-a2b0-4caa-c114-c74f2a931a8f"
      },
      "execution_count": 2,
      "outputs": [
        {
          "output_type": "execute_result",
          "data": {
            "text/plain": [
              "tensor([[5.2602e+22, 3.3557e-06, 2.1707e-18],\n",
              "        [4.5447e+30, 7.0062e+22, 2.1715e-18]])"
            ]
          },
          "metadata": {},
          "execution_count": 2
        }
      ]
    },
    {
      "cell_type": "code",
      "source": [
        "torch.zeros(1,5)"
      ],
      "metadata": {
        "colab": {
          "base_uri": "https://localhost:8080/"
        },
        "id": "TU3Jj7XPSgw4",
        "outputId": "8a3dc021-4515-4de2-8e0c-03e17567bae3"
      },
      "execution_count": 3,
      "outputs": [
        {
          "output_type": "execute_result",
          "data": {
            "text/plain": [
              "tensor([[0., 0., 0., 0., 0.]])"
            ]
          },
          "metadata": {},
          "execution_count": 3
        }
      ]
    },
    {
      "cell_type": "code",
      "source": [
        "torch.ones(2,3)"
      ],
      "metadata": {
        "colab": {
          "base_uri": "https://localhost:8080/"
        },
        "id": "jN20G9ZfSf-h",
        "outputId": "736b2e6d-a16d-4b42-c13f-d846cd995864"
      },
      "execution_count": 4,
      "outputs": [
        {
          "output_type": "execute_result",
          "data": {
            "text/plain": [
              "tensor([[1., 1., 1.],\n",
              "        [1., 1., 1.]])"
            ]
          },
          "metadata": {},
          "execution_count": 4
        }
      ]
    },
    {
      "cell_type": "code",
      "source": [
        "torch.rand(2,3) # matrix of shape (2,3) with random values between 0 and 1"
      ],
      "metadata": {
        "colab": {
          "base_uri": "https://localhost:8080/"
        },
        "id": "Si-n7NATSgBB",
        "outputId": "f10977b1-12b3-42a4-881d-1eaa5c4f0700"
      },
      "execution_count": 6,
      "outputs": [
        {
          "output_type": "execute_result",
          "data": {
            "text/plain": [
              "tensor([[0.6268, 0.3115, 0.5663],\n",
              "        [0.6079, 0.5990, 0.0798]])"
            ]
          },
          "metadata": {},
          "execution_count": 6
        }
      ]
    },
    {
      "cell_type": "code",
      "source": [
        "# if u want to use the same values in random\n",
        "torch.manual_seed(1)\n",
        "torch.rand(3,4)"
      ],
      "metadata": {
        "colab": {
          "base_uri": "https://localhost:8080/"
        },
        "id": "-CngLhgbSgDb",
        "outputId": "3a76d2a9-27da-429b-d576-c7568b844589"
      },
      "execution_count": 7,
      "outputs": [
        {
          "output_type": "execute_result",
          "data": {
            "text/plain": [
              "tensor([[0.7576, 0.2793, 0.4031, 0.7347],\n",
              "        [0.0293, 0.7999, 0.3971, 0.7544],\n",
              "        [0.5695, 0.4388, 0.6387, 0.5247]])"
            ]
          },
          "metadata": {},
          "execution_count": 7
        }
      ]
    },
    {
      "cell_type": "code",
      "source": [
        "torch.manual_seed(1)\n",
        "torch.rand(3,4) # same matrix is generated when seed 1 is used"
      ],
      "metadata": {
        "colab": {
          "base_uri": "https://localhost:8080/"
        },
        "id": "_5RfJ_siSgG3",
        "outputId": "29bdfdc8-fd0c-4a7b-caa6-ae6f78a4c024"
      },
      "execution_count": 9,
      "outputs": [
        {
          "output_type": "execute_result",
          "data": {
            "text/plain": [
              "tensor([[0.7576, 0.2793, 0.4031, 0.7347],\n",
              "        [0.0293, 0.7999, 0.3971, 0.7544],\n",
              "        [0.5695, 0.4388, 0.6387, 0.5247]])"
            ]
          },
          "metadata": {},
          "execution_count": 9
        }
      ]
    },
    {
      "cell_type": "code",
      "source": [
        "x = torch.tensor([[1,2,3],[4,5,6]]) # tensor of shape (2,3)\n",
        "print(x)\n",
        "print(x.shape)"
      ],
      "metadata": {
        "colab": {
          "base_uri": "https://localhost:8080/"
        },
        "id": "onFTb6L0ThqU",
        "outputId": "fb66e9c7-12d1-4175-85cf-c888ada85be4"
      },
      "execution_count": 19,
      "outputs": [
        {
          "output_type": "stream",
          "name": "stdout",
          "text": [
            "tensor([[1, 2, 3],\n",
            "        [4, 5, 6]])\n",
            "torch.Size([2, 3])\n"
          ]
        }
      ]
    },
    {
      "cell_type": "code",
      "source": [
        "# can use arange and linspace as well like in numpy\n",
        "x1 = torch.linspace(1,10,10)\n",
        "print(x1)\n",
        "\n",
        "x2 = torch.eye(3) # identity matrix with n=3\n",
        "print(x2)"
      ],
      "metadata": {
        "colab": {
          "base_uri": "https://localhost:8080/"
        },
        "id": "HuEwS6IqThsp",
        "outputId": "e3ec9c7d-9f21-4ff8-a903-faf56f9ab70e"
      },
      "execution_count": 13,
      "outputs": [
        {
          "output_type": "stream",
          "name": "stdout",
          "text": [
            "tensor([ 1.,  2.,  3.,  4.,  5.,  6.,  7.,  8.,  9., 10.])\n",
            "tensor([[1., 0., 0.],\n",
            "        [0., 1., 0.],\n",
            "        [0., 0., 1.]])\n"
          ]
        }
      ]
    },
    {
      "cell_type": "code",
      "source": [
        "# create an empty tensor with shape same as x\n",
        "print(torch.empty_like(x))\n",
        "# or\n",
        "print(torch.empty(x.shape))"
      ],
      "metadata": {
        "colab": {
          "base_uri": "https://localhost:8080/"
        },
        "id": "RED3EA2-ThvY",
        "outputId": "8427dd05-83d4-43a4-e688-e3f922c82ca6"
      },
      "execution_count": 15,
      "outputs": [
        {
          "output_type": "stream",
          "name": "stdout",
          "text": [
            "tensor([[    134693434572160,           490308016,                  32],\n",
            "        [                 64,              119611, 4189038638018098015]])\n",
            "tensor([[-5.2560e+01,  4.3945e-41,  2.7760e-21],\n",
            "        [ 0.0000e+00,  4.4842e-44,  0.0000e+00]])\n"
          ]
        }
      ]
    },
    {
      "cell_type": "code",
      "source": [
        "# to get the data type use dtype"
      ],
      "metadata": {
        "id": "A_evXRvJThx5"
      },
      "execution_count": null,
      "outputs": []
    },
    {
      "cell_type": "code",
      "source": [
        "x = x.to(torch.float32)\n",
        "x # converted to float"
      ],
      "metadata": {
        "colab": {
          "base_uri": "https://localhost:8080/"
        },
        "id": "3cTRNF0cTh0z",
        "outputId": "042c3597-38b3-49d9-a98f-477a7d1c12a7"
      },
      "execution_count": 18,
      "outputs": [
        {
          "output_type": "execute_result",
          "data": {
            "text/plain": [
              "tensor([[1., 2., 3.],\n",
              "        [4., 5., 6.]])"
            ]
          },
          "metadata": {},
          "execution_count": 18
        }
      ]
    },
    {
      "cell_type": "code",
      "source": [
        "# MATHEMATICAL OPERATION USING SCALARS\n",
        "\n",
        "# x = tensor([[1, 2, 3],\n",
        "#          [4, 5, 6]])\n",
        "\n",
        "print(x+2)\n",
        "\n",
        "print(x-1)\n",
        "\n",
        "print(x*3)\n",
        "\n",
        "print(x/3)\n",
        "\n",
        "print(x//2)"
      ],
      "metadata": {
        "colab": {
          "base_uri": "https://localhost:8080/"
        },
        "id": "aio3zVITTh3U",
        "outputId": "e2cf55a0-6dbd-4ac0-fd6c-ca6c488afd1d"
      },
      "execution_count": 22,
      "outputs": [
        {
          "output_type": "stream",
          "name": "stdout",
          "text": [
            "tensor([[3, 4, 5],\n",
            "        [6, 7, 8]])\n",
            "tensor([[0, 1, 2],\n",
            "        [3, 4, 5]])\n",
            "tensor([[ 3,  6,  9],\n",
            "        [12, 15, 18]])\n",
            "tensor([[0.3333, 0.6667, 1.0000],\n",
            "        [1.3333, 1.6667, 2.0000]])\n",
            "tensor([[0, 1, 1],\n",
            "        [2, 2, 3]])\n"
          ]
        }
      ]
    },
    {
      "cell_type": "code",
      "source": [
        "# TENSOR OPERATIONS\n",
        "a = torch.tensor([[1,2,3],[3,4,5]])\n",
        "b = torch.tensor([[2,3,4],[5,6,7]])\n",
        "\n",
        "# SAME SHAPE -> operations are performed on respective elements\n",
        "\n",
        "print(a+b)\n",
        "print(a-b)\n",
        "print(a*b)\n",
        "print(a/b)"
      ],
      "metadata": {
        "colab": {
          "base_uri": "https://localhost:8080/"
        },
        "id": "XuH2aOf3Th6A",
        "outputId": "746241b6-33de-41c1-ec69-c2059dd409e9"
      },
      "execution_count": 45,
      "outputs": [
        {
          "output_type": "stream",
          "name": "stdout",
          "text": [
            "tensor([[ 3,  5,  7],\n",
            "        [ 8, 10, 12]])\n",
            "tensor([[-1, -1, -1],\n",
            "        [-2, -2, -2]])\n",
            "tensor([[ 2,  6, 12],\n",
            "        [15, 24, 35]])\n",
            "tensor([[0.5000, 0.6667, 0.7500],\n",
            "        [0.6000, 0.6667, 0.7143]])\n"
          ]
        }
      ]
    },
    {
      "cell_type": "code",
      "source": [
        "# abs\n",
        "c = torch.tensor([[1,-2,3],[-4,-5,-6]])\n",
        "print(torch.abs(c)) # abs value of each element"
      ],
      "metadata": {
        "colab": {
          "base_uri": "https://localhost:8080/"
        },
        "id": "6mmNqV4_Th8o",
        "outputId": "c92d4992-2aa5-4296-de20-cea58ed5e1fc"
      },
      "execution_count": 26,
      "outputs": [
        {
          "output_type": "stream",
          "name": "stdout",
          "text": [
            "tensor([[1, 2, 3],\n",
            "        [4, 5, 6]])\n"
          ]
        }
      ]
    },
    {
      "cell_type": "code",
      "source": [
        "# round\n",
        "torch.manual_seed(1)\n",
        "d = torch.rand(3,4)\n",
        "print(d)\n",
        "print((torch.round(d)))"
      ],
      "metadata": {
        "colab": {
          "base_uri": "https://localhost:8080/"
        },
        "id": "jqoisnxoTh_R",
        "outputId": "297faa74-366f-46d4-f10a-6a329c1af50a"
      },
      "execution_count": 30,
      "outputs": [
        {
          "output_type": "stream",
          "name": "stdout",
          "text": [
            "tensor([[0.7576, 0.2793, 0.4031, 0.7347],\n",
            "        [0.0293, 0.7999, 0.3971, 0.7544],\n",
            "        [0.5695, 0.4388, 0.6387, 0.5247]])\n",
            "tensor([[1., 0., 0., 1.],\n",
            "        [0., 1., 0., 1.],\n",
            "        [1., 0., 1., 1.]])\n"
          ]
        }
      ]
    },
    {
      "cell_type": "code",
      "source": [
        "# sum\n",
        "print(torch.sum(d)) # sum of all elements\n",
        "print(torch.sum(d,dim=0)) # sum along the columns\n",
        "print(torch.sum(d,dim=1)) # sum along the rows\n",
        "\n",
        "# mean\n",
        "print(torch.mean(d)) # mean of all elements, sim. u can finde mean by row or clm by setting dim=0 or 1\n",
        "\n",
        "# same for std dev. , varn, median , min , max, etc"
      ],
      "metadata": {
        "colab": {
          "base_uri": "https://localhost:8080/"
        },
        "id": "HErG6AksTiBx",
        "outputId": "91f391fd-691e-47c9-eff1-7a73e35296ba"
      },
      "execution_count": 36,
      "outputs": [
        {
          "output_type": "stream",
          "name": "stdout",
          "text": [
            "tensor(6.3270)\n",
            "tensor([1.3564, 1.5179, 1.4389, 2.0137])\n",
            "tensor([2.1747, 1.9806, 2.1716])\n",
            "tensor(0.5272)\n"
          ]
        }
      ]
    },
    {
      "cell_type": "code",
      "source": [
        "# matrix multiplication\n",
        "print(a)\n",
        "# b = b.reshape((3,2))\n",
        "# or\n",
        "b = torch.transpose(b,0,1)\n",
        "print(b)\n",
        "\n",
        "print(\"\\nMatrix Multiplication : \\n\",torch.matmul(a,b))"
      ],
      "metadata": {
        "colab": {
          "base_uri": "https://localhost:8080/"
        },
        "id": "-quN-RlSXJsI",
        "outputId": "445130fd-a196-4f96-e3cd-5ce2dfaa3ef7"
      },
      "execution_count": 50,
      "outputs": [
        {
          "output_type": "stream",
          "name": "stdout",
          "text": [
            "tensor([[1, 2, 3],\n",
            "        [3, 4, 5]])\n",
            "tensor([[2, 5],\n",
            "        [3, 6],\n",
            "        [4, 7]])\n",
            "\n",
            "Matrix Multiplication : \n",
            " tensor([[20, 38],\n",
            "        [38, 74]])\n"
          ]
        }
      ]
    },
    {
      "cell_type": "code",
      "source": [
        "# DOT PRODUCT\n",
        "v1 = torch.tensor([1,2,3])\n",
        "v2 = torch.tensor([4,5,6])\n",
        "\n",
        "print(torch.dot(v1,v2)) # dot product of vectors/1-d tensor"
      ],
      "metadata": {
        "colab": {
          "base_uri": "https://localhost:8080/"
        },
        "id": "aEPouftbXJuw",
        "outputId": "1a6f7780-1fc8-4cb5-9d78-a7a512143799"
      },
      "execution_count": 48,
      "outputs": [
        {
          "output_type": "stream",
          "name": "stdout",
          "text": [
            "tensor(32)\n"
          ]
        }
      ]
    },
    {
      "cell_type": "code",
      "source": [
        "# determinant\n",
        "m = torch.tensor([[1,2,3],[1,1,0],[0,2,1]],dtype=torch.float32)\n",
        "print(torch.det(m))"
      ],
      "metadata": {
        "colab": {
          "base_uri": "https://localhost:8080/"
        },
        "id": "sVeBPJF2XJw_",
        "outputId": "4197edf5-2257-4027-d08c-44cefcde9fba"
      },
      "execution_count": 59,
      "outputs": [
        {
          "output_type": "stream",
          "name": "stdout",
          "text": [
            "tensor(5.)\n"
          ]
        }
      ]
    },
    {
      "cell_type": "code",
      "source": [
        "# same comparison fns like numpy"
      ],
      "metadata": {
        "id": "GLhrM8sVXJ0Y"
      },
      "execution_count": 60,
      "outputs": []
    },
    {
      "cell_type": "code",
      "source": [
        "# sigmoid and softmax fn\n",
        "print(a)\n",
        "\n",
        "print(torch.sigmoid(a))\n",
        "\n",
        "print(torch.softmax(a.to(torch.float32),dim=1)) # calculated dimension wise\n",
        "\n",
        "# dim = 1 for rows\n",
        "# dim = 0 for clms"
      ],
      "metadata": {
        "colab": {
          "base_uri": "https://localhost:8080/"
        },
        "id": "Bh_W9tutTiFM",
        "outputId": "2a62dc85-37e8-4817-eee7-bbd13ebcb919"
      },
      "execution_count": 69,
      "outputs": [
        {
          "output_type": "stream",
          "name": "stdout",
          "text": [
            "tensor([[1, 2, 3],\n",
            "        [3, 4, 5]])\n",
            "tensor([[0.7311, 0.8808, 0.9526],\n",
            "        [0.9526, 0.9820, 0.9933]])\n",
            "tensor([[0.0900, 0.2447, 0.6652],\n",
            "        [0.0900, 0.2447, 0.6652]])\n"
          ]
        }
      ]
    },
    {
      "cell_type": "code",
      "source": [
        "# unsqueeze\n",
        "c = torch.rand(2,4)\n",
        "c.unsqueeze(0).shape  # creates a new clm at the index specified\n",
        "\n",
        "# similarly squeeze removes the clm at the index"
      ],
      "metadata": {
        "colab": {
          "base_uri": "https://localhost:8080/"
        },
        "id": "biUdkhDRdDyT",
        "outputId": "e858d520-9600-4469-d4a8-b4ee6d00a1cd"
      },
      "execution_count": 76,
      "outputs": [
        {
          "output_type": "execute_result",
          "data": {
            "text/plain": [
              "torch.Size([1, 2, 4])"
            ]
          },
          "metadata": {},
          "execution_count": 76
        }
      ]
    },
    {
      "cell_type": "code",
      "source": [],
      "metadata": {
        "id": "b_H9kR0adD3H"
      },
      "execution_count": null,
      "outputs": []
    },
    {
      "cell_type": "code",
      "source": [],
      "metadata": {
        "id": "PBiZLWd2dD5l"
      },
      "execution_count": null,
      "outputs": []
    },
    {
      "cell_type": "code",
      "source": [],
      "metadata": {
        "id": "5W3g9AGRdD84"
      },
      "execution_count": null,
      "outputs": []
    }
  ]
}