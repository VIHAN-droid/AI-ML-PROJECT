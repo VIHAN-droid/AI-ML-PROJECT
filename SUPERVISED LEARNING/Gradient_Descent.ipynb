{
  "nbformat": 4,
  "nbformat_minor": 0,
  "metadata": {
    "colab": {
      "provenance": [],
      "authorship_tag": "ABX9TyNfjGEDnk8grHFo6vX8A2m5",
      "include_colab_link": true
    },
    "kernelspec": {
      "name": "python3",
      "display_name": "Python 3"
    },
    "language_info": {
      "name": "python"
    }
  },
  "cells": [
    {
      "cell_type": "markdown",
      "metadata": {
        "id": "view-in-github",
        "colab_type": "text"
      },
      "source": [
        "<a href=\"https://colab.research.google.com/github/VIHAN-droid/AI-ML-PROJECT/blob/main/SUPERVISED%20LEARNING/Gradient_Descent.ipynb\" target=\"_parent\"><img src=\"https://colab.research.google.com/assets/colab-badge.svg\" alt=\"Open In Colab\"/></a>"
      ]
    },
    {
      "cell_type": "code",
      "execution_count": 4,
      "metadata": {
        "id": "8Gglq7QHC6B-"
      },
      "outputs": [],
      "source": [
        "from sklearn.datasets import make_regression\n",
        "import matplotlib.pyplot as plt\n",
        "import numpy as np"
      ]
    },
    {
      "cell_type": "code",
      "source": [
        "x,y = make_regression(n_samples=100, n_features=1, n_informative=1, n_targets=1, noise=20, random_state=1)"
      ],
      "metadata": {
        "id": "n9vFF-32DtWD"
      },
      "execution_count": 2,
      "outputs": []
    },
    {
      "cell_type": "code",
      "source": [
        "plt.scatter(x,y)"
      ],
      "metadata": {
        "id": "1xIuotwADtYf",
        "colab": {
          "base_uri": "https://localhost:8080/",
          "height": 448
        },
        "outputId": "42360700-a92e-4841-ffb1-4877419693f1"
      },
      "execution_count": 3,
      "outputs": [
        {
          "output_type": "execute_result",
          "data": {
            "text/plain": [
              "<matplotlib.collections.PathCollection at 0x79706b03c690>"
            ]
          },
          "metadata": {},
          "execution_count": 3
        },
        {
          "output_type": "display_data",
          "data": {
            "text/plain": [
              "<Figure size 640x480 with 1 Axes>"
            ],
            "image/png": "[encoded data removed]"
          },
          "metadata": {}
        }
      ]
    },
    {
      "cell_type": "code",
      "source": [
        "# FROM SKLEARN LIBRARY\n",
        "from sklearn.linear_model import LinearRegression\n",
        "lr = LinearRegression()\n",
        "lr.fit(x,y)\n",
        "print(lr.coef_) # m\n",
        "print(lr.intercept_) # b"
      ],
      "metadata": {
        "id": "TTQ7ztTqDtbC",
        "colab": {
          "base_uri": "https://localhost:8080/"
        },
        "outputId": "33adc740-681b-4fa0-b3db-05e28ea12807"
      },
      "execution_count": 4,
      "outputs": [
        {
          "output_type": "stream",
          "name": "stdout",
          "text": [
            "[82.48449929]\n",
            "4.054028777621713\n"
          ]
        }
      ]
    },
    {
      "cell_type": "code",
      "source": [
        "class GD:\n",
        "  def __init__(self,learning_rate,epochs):\n",
        "    self.m = 0\n",
        "    self.b = 50\n",
        "    self.lr = learning_rate\n",
        "    self.ep = epochs\n",
        "\n",
        "  def fit(self,x,y):\n",
        "    for _ in range(self.ep):\n",
        "      loss_slope_b = -2 * np.sum(y - self.m * x.ravel() - self.b)\n",
        "      loss_slope_m = -2 * np.sum((y - self.m * x.ravel() - self.b) * x.ravel())\n",
        "\n",
        "      self.b = self.b - (self.lr * loss_slope_b)\n",
        "      self.m = self.m - (self.lr * loss_slope_m)\n",
        "    print(self.m , self.b)"
      ],
      "metadata": {
        "id": "UazfY0SBDtdY"
      },
      "execution_count": 18,
      "outputs": []
    },
    {
      "cell_type": "code",
      "source": [
        "gd = GD(0.001,60)\n",
        "gd.fit(x,y)  # using 0.1 and 0.01 were jumping between values thus lr was reduced to 0.001 and epochs were increased"
      ],
      "metadata": {
        "id": "8EcTCqNsDtg6",
        "colab": {
          "base_uri": "https://localhost:8080/"
        },
        "outputId": "39fdca64-936b-489f-a5a9-f1981338f05b"
      },
      "execution_count": 22,
      "outputs": [
        {
          "output_type": "stream",
          "name": "stdout",
          "text": [
            "82.48068771075751 4.055066777528049\n"
          ]
        }
      ]
    },
    {
      "cell_type": "markdown",
      "source": [
        "# N-dim Gradient Descent (BATCH GD)"
      ],
      "metadata": {
        "id": "yAT8ZXxza3jZ"
      }
    },
    {
      "cell_type": "code",
      "source": [
        "from sklearn.datasets import load_diabetes\n",
        "from sklearn.model_selection import train_test_split\n",
        "from sklearn.linear_model import LinearRegression\n",
        "from sklearn.metrics import r2_score"
      ],
      "metadata": {
        "id": "PUu8_Iqya7Tq"
      },
      "execution_count": 5,
      "outputs": []
    },
    {
      "cell_type": "code",
      "source": [
        "x,y = load_diabetes(return_X_y=True)\n",
        "x_train , x_test , y_train , y_test = train_test_split(x,y,test_size=0.1,random_state=2)\n",
        "lr = LinearRegression()\n",
        "lr.fit(x_train,y_train)\n",
        "print(lr.coef_)\n",
        "print(lr.intercept_)"
      ],
      "metadata": {
        "id": "ZCpSikTNDtmK",
        "colab": {
          "base_uri": "https://localhost:8080/"
        },
        "outputId": "e9256171-2670-4d46-f3b7-15cf9abe3732"
      },
      "execution_count": 8,
      "outputs": [
        {
          "output_type": "stream",
          "name": "stdout",
          "text": [
            "[ -15.18701492 -235.26111545  479.42329303  350.84419985 -844.7635999\n",
            "  529.18628628   91.92604391  117.00124179  810.36469769   56.03426843]\n",
            "152.3439331860667\n"
          ]
        }
      ]
    },
    {
      "cell_type": "code",
      "source": [
        "y_pred = lr.predict(x_test)\n",
        "r2_score(y_test,y_pred)"
      ],
      "metadata": {
        "id": "tvszw7gZDtro",
        "colab": {
          "base_uri": "https://localhost:8080/"
        },
        "outputId": "0ba7b221-67a5-47cc-cd2a-4894f711d7c6"
      },
      "execution_count": 9,
      "outputs": [
        {
          "output_type": "execute_result",
          "data": {
            "text/plain": [
              "0.5161508238085537"
            ]
          },
          "metadata": {},
          "execution_count": 9
        }
      ]
    },
    {
      "cell_type": "code",
      "source": [
        "x_train.shape"
      ],
      "metadata": {
        "colab": {
          "base_uri": "https://localhost:8080/"
        },
        "id": "Gn26OwwSg-Xq",
        "outputId": "687bcde2-9cf3-4a9e-ddeb-bd80922aae41"
      },
      "execution_count": 13,
      "outputs": [
        {
          "output_type": "execute_result",
          "data": {
            "text/plain": [
              "(397, 10)"
            ]
          },
          "metadata": {},
          "execution_count": 13
        }
      ]
    },
    {
      "cell_type": "code",
      "source": [
        "class GD_n_dim:\n",
        "  def __init__(self,learning_rate,epochs):\n",
        "    self.lr = learning_rate\n",
        "    self.epochs = epochs\n",
        "    self.intercept = None\n",
        "    self.coef = None\n",
        "\n",
        "  def fit(self, x_train , y_train):\n",
        "    self.intercept = 0\n",
        "    self.coef = np.ones(x_train.shape[1])\n",
        "\n",
        "    for _ in range(self.epochs):\n",
        "      self.intercept = self.intercept - (self.lr)*((-2) * (np.mean(y_train - ( self.intercept + np.dot(x_train , self.coef)) )))\n",
        "      self.coef = self.coef - (self.lr)*((-2) * np.dot(y_train - ( self.intercept + np.dot(x_train , self.coef)) , x_train) / x_train.shape[0])\n",
        "\n",
        "    print(self.coef)\n",
        "    print(self.intercept)"
      ],
      "metadata": {
        "id": "ly8TDFhTDtvG"
      },
      "execution_count": 14,
      "outputs": []
    },
    {
      "cell_type": "code",
      "source": [
        "gd = GD_n_dim(1 , 175000)\n",
        "gd.fit(x_train,y_train)"
      ],
      "metadata": {
        "colab": {
          "base_uri": "https://localhost:8080/"
        },
        "id": "pQcxKmu4lhMq",
        "outputId": "a980b114-bfbb-4c11-f860-15d844d7a9f3"
      },
      "execution_count": 43,
      "outputs": [
        {
          "output_type": "stream",
          "name": "stdout",
          "text": [
            "[ -15.18424487 -235.25819249  479.43054705  350.83882013 -844.02400408\n",
            "  528.59571629   91.58723976  116.88423754  810.08914131   56.032682  ]\n",
            "148.29277861499438\n"
          ]
        }
      ]
    },
    {
      "cell_type": "markdown",
      "source": [
        "# STOCHASTIC GD"
      ],
      "metadata": {
        "id": "d3Ha0ACsntOs"
      }
    },
    {
      "cell_type": "code",
      "source": [
        "class SGD:\n",
        "  def __init__(self,learning_rate,epochs):\n",
        "    self.lr = learning_rate\n",
        "    self.epochs = epochs\n",
        "    self.intercept = None\n",
        "    self.coef = None\n",
        "\n",
        "  def fit(self, x_train , y_train):\n",
        "    self.intercept = 0\n",
        "    self.coef = np.ones(x_train.shape[1])\n",
        "\n",
        "    for _ in range(self.epochs):\n",
        "      for j in range(x_train.shape[0]):\n",
        "        index = np.random.randint(0,x_train.shape[0])\n",
        "        self.intercept = self.intercept - (self.lr)*((-2) * (y_train[index] - ( self.intercept + np.dot(x_train[index] , self.coef)) ))\n",
        "        self.coef = self.coef - (self.lr)*((-2) * np.dot(y_train[index] - (self.intercept + np.dot(x_train[index] , self.coef)) , x_train[index]) )\n",
        "\n",
        "    print(self.coef)\n",
        "    print(self.intercept)"
      ],
      "metadata": {
        "id": "iUfKkKcelpDS"
      },
      "execution_count": 53,
      "outputs": []
    },
    {
      "cell_type": "code",
      "source": [
        "sgd = SGD(0.15,1600)\n",
        "sgd.fit(x_train,y_train)"
      ],
      "metadata": {
        "colab": {
          "base_uri": "https://localhost:8080/"
        },
        "id": "ObdVVHdNlpF0",
        "outputId": "9cfcfffe-61e6-4a7f-c887-e991cd318d20"
      },
      "execution_count": 74,
      "outputs": [
        {
          "output_type": "stream",
          "name": "stdout",
          "text": [
            "[ -22.78086262 -239.54433286  469.63133296  349.49445946 -762.48467917\n",
            "  486.13809399   65.37062354  112.90626248  813.80912437   72.4961776 ]\n",
            "124.37741050152236\n"
          ]
        }
      ]
    },
    {
      "cell_type": "markdown",
      "source": [
        "MINI BATCH GD"
      ],
      "metadata": {
        "id": "eljT2uVGzzJ7"
      }
    },
    {
      "cell_type": "code",
      "source": [
        "import random\n",
        "class MBSGD:\n",
        "  def __init__(self,batch_size,learning_rate,epochs):\n",
        "    self.lr = learning_rate\n",
        "    self.epochs = epochs\n",
        "    self.intercept = None\n",
        "    self.coef = None\n",
        "    self.bs = batch_size\n",
        "\n",
        "  def fit(self, x_train , y_train):\n",
        "    self.intercept = 0\n",
        "    self.coef = np.ones(x_train.shape[1])\n",
        "\n",
        "    for _ in range(self.epochs):\n",
        "      for j in range(int(x_train.shape[0] / self.bs)):\n",
        "        index = random.sample(range(x_train.shape[0]) , self.bs)\n",
        "        self.intercept = self.intercept - (self.lr)*((-2) * np.mean(y_train[index] - ( self.intercept + np.dot(x_train[index] , self.coef)) ))\n",
        "        self.coef = self.coef - (self.lr)*((-2) * np.dot(y_train[index] - (self.intercept + np.dot(x_train[index] , self.coef)) , x_train[index]) )\n",
        "\n",
        "    print(self.coef)\n",
        "    print(self.intercept)"
      ],
      "metadata": {
        "id": "S89RZ0aTlpJM"
      },
      "execution_count": 78,
      "outputs": []
    },
    {
      "cell_type": "code",
      "source": [
        "mbgd = MBSGD(30,0.1,100)\n",
        "mbgd.fit(x_train,y_train)"
      ],
      "metadata": {
        "colab": {
          "base_uri": "https://localhost:8080/"
        },
        "id": "Ocy5QDpf1kui",
        "outputId": "e4764975-ca3f-4101-a8f5-d19e0bded503"
      },
      "execution_count": 89,
      "outputs": [
        {
          "output_type": "stream",
          "name": "stdout",
          "text": [
            "[ -15.22096725 -224.92894582  499.92103799  335.0746942  -136.76094578\n",
            "  -36.27933804 -200.59961238   64.50009484  569.20969888   56.94926457]\n",
            "149.52563280360704\n"
          ]
        }
      ]
    }
  ]
}