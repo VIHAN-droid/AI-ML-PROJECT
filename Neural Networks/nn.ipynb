{
  "nbformat": 4,
  "nbformat_minor": 0,
  "metadata": {
    "colab": {
      "provenance": [],
      "authorship_tag": "ABX9TyPVanyHQM73rHk/K1k+KMk9",
      "include_colab_link": true
    },
    "kernelspec": {
      "name": "python3",
      "display_name": "Python 3"
    },
    "language_info": {
      "name": "python"
    }
  },
  "cells": [
    {
      "cell_type": "markdown",
      "metadata": {
        "id": "view-in-github",
        "colab_type": "text"
      },
      "source": [
        "<a href=\"https://colab.research.google.com/github/VIHAN-droid/AI-ML-PROJECT/blob/main/Neural%20Networks/nn.ipynb\" target=\"_parent\"><img src=\"https://colab.research.google.com/assets/colab-badge.svg\" alt=\"Open In Colab\"/></a>"
      ]
    },
    {
      "cell_type": "code",
      "execution_count": 12,
      "metadata": {
        "id": "YHxoZSDragE3"
      },
      "outputs": [],
      "source": [
        "import torch\n",
        "import torch.nn as nn\n",
        "\n",
        "class Model(nn.Module):  # inherits nn.Module\n",
        "  def __init__(self, num_features): # num_features -> number of features\n",
        "    super().__init__()\n",
        "    self.sigmoid = nn.Sigmoid()\n",
        "    self.linear = nn.Linear(num_features, 1)  # no of features and no of outputs  -> a single neuron\n",
        "\n",
        "  def forward(self,num_features):\n",
        "    out = self.linear(num_features)\n",
        "    out = self.sigmoid(out)\n",
        "    return out"
      ]
    },
    {
      "cell_type": "code",
      "source": [
        "features = torch.rand(10,5)\n",
        "model = Model(features.shape[1])\n",
        "model(features)  # simply use Model to call the features no need for Model.forward(features)"
      ],
      "metadata": {
        "colab": {
          "base_uri": "https://localhost:8080/"
        },
        "id": "-mqKF3shbpcv",
        "outputId": "648ab7bb-f15c-4be5-e168-790aada2f4c0"
      },
      "execution_count": 13,
      "outputs": [
        {
          "output_type": "execute_result",
          "data": {
            "text/plain": [
              "tensor([[0.7190],\n",
              "        [0.6306],\n",
              "        [0.6508],\n",
              "        [0.6076],\n",
              "        [0.6752],\n",
              "        [0.5520],\n",
              "        [0.6268],\n",
              "        [0.6483],\n",
              "        [0.6651],\n",
              "        [0.5792]], grad_fn=<SigmoidBackward0>)"
            ]
          },
          "metadata": {},
          "execution_count": 13
        }
      ]
    },
    {
      "cell_type": "code",
      "source": [
        "model.linear.weight # prints the weight of that neuron"
      ],
      "metadata": {
        "colab": {
          "base_uri": "https://localhost:8080/"
        },
        "id": "Rynahw4Wbpfe",
        "outputId": "b9785796-68d5-44e9-e371-29ae15488573"
      },
      "execution_count": 14,
      "outputs": [
        {
          "output_type": "execute_result",
          "data": {
            "text/plain": [
              "Parameter containing:\n",
              "tensor([[-0.1474,  0.3121,  0.3976,  0.1667, -0.3555]], requires_grad=True)"
            ]
          },
          "metadata": {},
          "execution_count": 14
        }
      ]
    },
    {
      "cell_type": "code",
      "source": [
        "model.linear.bias"
      ],
      "metadata": {
        "colab": {
          "base_uri": "https://localhost:8080/"
        },
        "id": "4u1RlrAdbph9",
        "outputId": "8cd8aedf-414d-4777-ecd4-13da61701f4f"
      },
      "execution_count": 15,
      "outputs": [
        {
          "output_type": "execute_result",
          "data": {
            "text/plain": [
              "Parameter containing:\n",
              "tensor([0.4266], requires_grad=True)"
            ]
          },
          "metadata": {},
          "execution_count": 15
        }
      ]
    },
    {
      "cell_type": "markdown",
      "source": [
        "# NEURAL NETWORK"
      ],
      "metadata": {
        "id": "pKZT5wDEghO6"
      }
    },
    {
      "cell_type": "code",
      "source": [
        "# plan : 5 input neurons , 1 hidden layer containing 3 neurons (relu) , and final output neuron (sigmoid)"
      ],
      "metadata": {
        "id": "KVTE7dBybpld"
      },
      "execution_count": null,
      "outputs": []
    },
    {
      "cell_type": "code",
      "source": [
        "import torch\n",
        "import torch.nn as nn\n",
        "\n",
        "class Model(nn.Module):  # inherits nn.Module\n",
        "  def __init__(self, num_features): # num_features -> number of features\n",
        "    super().__init__()\n",
        "    self.sigmoid = nn.Sigmoid()\n",
        "    self.relu = nn.ReLU()\n",
        "    self.linear1 = nn.Linear(num_features, 3)  # no of features and no of outputs  -> a single neuron\n",
        "    self.linear2 = nn.Linear(3,1)\n",
        "\n",
        "  def forward(self,num_features):\n",
        "    out = self.linear1(num_features)\n",
        "    out = self.relu(out)\n",
        "    out = self.linear2(out)\n",
        "    out = self.sigmoid(out)\n",
        "    return out"
      ],
      "metadata": {
        "id": "KXK-aDu2gyiF"
      },
      "execution_count": 18,
      "outputs": []
    },
    {
      "cell_type": "code",
      "source": [
        "features = torch.rand(10,5)\n",
        "model = Model(features.shape[1])\n",
        "model(features)"
      ],
      "metadata": {
        "colab": {
          "base_uri": "https://localhost:8080/"
        },
        "id": "ttSocxZFgy4Q",
        "outputId": "5e3459b8-cf1a-4f75-fefb-f1cd1db7b76e"
      },
      "execution_count": 19,
      "outputs": [
        {
          "output_type": "execute_result",
          "data": {
            "text/plain": [
              "tensor([[0.3738],\n",
              "        [0.4037],\n",
              "        [0.3547],\n",
              "        [0.3689],\n",
              "        [0.3652],\n",
              "        [0.3980],\n",
              "        [0.3911],\n",
              "        [0.3776],\n",
              "        [0.3595],\n",
              "        [0.3520]], grad_fn=<SigmoidBackward0>)"
            ]
          },
          "metadata": {},
          "execution_count": 19
        }
      ]
    },
    {
      "cell_type": "code",
      "source": [
        "model.linear1.weight"
      ],
      "metadata": {
        "colab": {
          "base_uri": "https://localhost:8080/"
        },
        "id": "38Uz8xRXgy6p",
        "outputId": "9da95e76-315b-47ea-b42a-a38251a136f8"
      },
      "execution_count": 20,
      "outputs": [
        {
          "output_type": "execute_result",
          "data": {
            "text/plain": [
              "Parameter containing:\n",
              "tensor([[ 0.3217, -0.0061,  0.3192,  0.3625,  0.1348],\n",
              "        [-0.2433, -0.1500, -0.3951,  0.4189,  0.1428],\n",
              "        [ 0.0565, -0.4008,  0.0711, -0.0071,  0.0330]], requires_grad=True)"
            ]
          },
          "metadata": {},
          "execution_count": 20
        }
      ]
    },
    {
      "cell_type": "code",
      "source": [
        "model.linear2.weight"
      ],
      "metadata": {
        "colab": {
          "base_uri": "https://localhost:8080/"
        },
        "id": "ZEJm2pkVgy9R",
        "outputId": "283c91f2-e685-4232-f215-0a71db0057b4"
      },
      "execution_count": 22,
      "outputs": [
        {
          "output_type": "execute_result",
          "data": {
            "text/plain": [
              "Parameter containing:\n",
              "tensor([[-0.4515, -0.5694, -0.1902]], requires_grad=True)"
            ]
          },
          "metadata": {},
          "execution_count": 22
        }
      ]
    },
    {
      "cell_type": "code",
      "source": [
        "model.linear1.bias"
      ],
      "metadata": {
        "colab": {
          "base_uri": "https://localhost:8080/"
        },
        "id": "P-zUpAvRgy_w",
        "outputId": "ac4dfb0f-7a16-4b30-a6db-37d9f36adb49"
      },
      "execution_count": 23,
      "outputs": [
        {
          "output_type": "execute_result",
          "data": {
            "text/plain": [
              "Parameter containing:\n",
              "tensor([-0.2968, -0.1083, -0.4173], requires_grad=True)"
            ]
          },
          "metadata": {},
          "execution_count": 23
        }
      ]
    },
    {
      "cell_type": "code",
      "source": [
        "!pip install torchinfo"
      ],
      "metadata": {
        "colab": {
          "base_uri": "https://localhost:8080/"
        },
        "id": "-6wifgQ_h3qf",
        "outputId": "6d04a1b1-ced3-46eb-e823-44b7a6296ebf"
      },
      "execution_count": 26,
      "outputs": [
        {
          "output_type": "stream",
          "name": "stdout",
          "text": [
            "Collecting torchinfo\n",
            "  Downloading torchinfo-1.8.0-py3-none-any.whl.metadata (21 kB)\n",
            "Downloading torchinfo-1.8.0-py3-none-any.whl (23 kB)\n",
            "Installing collected packages: torchinfo\n",
            "Successfully installed torchinfo-1.8.0\n"
          ]
        }
      ]
    },
    {
      "cell_type": "code",
      "source": [
        "from torchinfo import summary\n",
        "summary(model, input_size=(10,5))"
      ],
      "metadata": {
        "colab": {
          "base_uri": "https://localhost:8080/"
        },
        "id": "lnI7ITBhgzCB",
        "outputId": "6a18890e-e5ac-4915-9953-14bf5e5337fd"
      },
      "execution_count": 27,
      "outputs": [
        {
          "output_type": "execute_result",
          "data": {
            "text/plain": [
              "==========================================================================================\n",
              "Layer (type:depth-idx)                   Output Shape              Param #\n",
              "==========================================================================================\n",
              "Model                                    [10, 1]                   --\n",
              "├─Linear: 1-1                            [10, 3]                   18\n",
              "├─ReLU: 1-2                              [10, 3]                   --\n",
              "├─Linear: 1-3                            [10, 1]                   4\n",
              "├─Sigmoid: 1-4                           [10, 1]                   --\n",
              "==========================================================================================\n",
              "Total params: 22\n",
              "Trainable params: 22\n",
              "Non-trainable params: 0\n",
              "Total mult-adds (Units.MEGABYTES): 0.00\n",
              "==========================================================================================\n",
              "Input size (MB): 0.00\n",
              "Forward/backward pass size (MB): 0.00\n",
              "Params size (MB): 0.00\n",
              "Estimated Total Size (MB): 0.00\n",
              "=========================================================================================="
            ]
          },
          "metadata": {},
          "execution_count": 27
        }
      ]
    },
    {
      "cell_type": "markdown",
      "source": [
        "# IMPROVED NEURAL NETWORK"
      ],
      "metadata": {
        "id": "DAaLApxzicE-"
      }
    },
    {
      "cell_type": "code",
      "source": [
        "# forward fn is redundant\n",
        "# that's why sequnetial Network is used"
      ],
      "metadata": {
        "id": "c4nWH-3ogzFV"
      },
      "execution_count": 31,
      "outputs": []
    },
    {
      "cell_type": "code",
      "source": [
        "import torch\n",
        "import torch.nn as nn\n",
        "\n",
        "class Model(nn.Module):\n",
        "  def __init__(self, num_features):\n",
        "    super().__init__()\n",
        "    self.network = nn.Sequential(\n",
        "        nn.Linear(num_features,3),\n",
        "        nn.ReLU(),\n",
        "        nn.Linear(3,1),\n",
        "        nn.Sigmoid()\n",
        "    )\n",
        "\n",
        "  def forward(self,num_features):\n",
        "    out = self.network(num_features)\n",
        "    return out"
      ],
      "metadata": {
        "id": "kPfbT62mid-d"
      },
      "execution_count": 32,
      "outputs": []
    },
    {
      "cell_type": "code",
      "source": [
        "features = torch.rand(10,5)\n",
        "model = Model(features.shape[1])\n",
        "model(features)"
      ],
      "metadata": {
        "colab": {
          "base_uri": "https://localhost:8080/"
        },
        "id": "5xUiyD4eieAq",
        "outputId": "4f07b644-7437-4a99-884a-58c3034baf31"
      },
      "execution_count": 33,
      "outputs": [
        {
          "output_type": "execute_result",
          "data": {
            "text/plain": [
              "tensor([[0.3888],\n",
              "        [0.3985],\n",
              "        [0.3854],\n",
              "        [0.3932],\n",
              "        [0.4026],\n",
              "        [0.3969],\n",
              "        [0.3942],\n",
              "        [0.4063],\n",
              "        [0.3914],\n",
              "        [0.4011]], grad_fn=<SigmoidBackward0>)"
            ]
          },
          "metadata": {},
          "execution_count": 33
        }
      ]
    },
    {
      "cell_type": "code",
      "source": [
        "summary(model, input_size=(10,5))"
      ],
      "metadata": {
        "colab": {
          "base_uri": "https://localhost:8080/"
        },
        "id": "qUi4aY9BieC0",
        "outputId": "e6a2b896-fd49-45c4-b5b9-6fe48e5cc2fc"
      },
      "execution_count": 37,
      "outputs": [
        {
          "output_type": "execute_result",
          "data": {
            "text/plain": [
              "==========================================================================================\n",
              "Layer (type:depth-idx)                   Output Shape              Param #\n",
              "==========================================================================================\n",
              "Model                                    [10, 1]                   --\n",
              "├─Sequential: 1-1                        [10, 1]                   --\n",
              "│    └─Linear: 2-1                       [10, 3]                   18\n",
              "│    └─ReLU: 2-2                         [10, 3]                   --\n",
              "│    └─Linear: 2-3                       [10, 1]                   4\n",
              "│    └─Sigmoid: 2-4                      [10, 1]                   --\n",
              "==========================================================================================\n",
              "Total params: 22\n",
              "Trainable params: 22\n",
              "Non-trainable params: 0\n",
              "Total mult-adds (Units.MEGABYTES): 0.00\n",
              "==========================================================================================\n",
              "Input size (MB): 0.00\n",
              "Forward/backward pass size (MB): 0.00\n",
              "Params size (MB): 0.00\n",
              "Estimated Total Size (MB): 0.00\n",
              "=========================================================================================="
            ]
          },
          "metadata": {},
          "execution_count": 37
        }
      ]
    },
    {
      "cell_type": "code",
      "source": [
        "# USING DATA"
      ],
      "metadata": {
        "id": "ZvCbMXleieFO"
      },
      "execution_count": null,
      "outputs": []
    },
    {
      "cell_type": "code",
      "source": [
        "import numpy as np\n",
        "import pandas as pd\n",
        "import torch\n",
        "from sklearn.model_selection import train_test_split\n",
        "from sklearn.preprocessing import StandardScaler\n",
        "from sklearn.preprocessing import LabelEncoder\n",
        "df = pd.read_csv('https://raw.githubusercontent.com/gscdit/Breast-Cancer-Detection/refs/heads/master/data.csv')\n",
        "df.head()\n",
        "df.drop(columns=['id', 'Unnamed: 32'], inplace= True)\n",
        "X_train, X_test, y_train, y_test = train_test_split(df.iloc[:, 1:], df.iloc[:, 0], test_size=0.2)\n",
        "scaler = StandardScaler()\n",
        "X_train = scaler.fit_transform(X_train)\n",
        "X_test = scaler.transform(X_test)\n",
        "encoder = LabelEncoder()\n",
        "y_train = encoder.fit_transform(y_train)\n",
        "y_test = encoder.transform(y_test)\n",
        "X_train_tensor = torch.from_numpy(X_train.astype(np.float32))\n",
        "X_test_tensor = torch.from_numpy(X_test.astype(np.float32))\n",
        "y_train_tensor = torch.from_numpy(y_train.astype(np.float32))\n",
        "y_test_tensor = torch.from_numpy(y_test.astype(np.float32))"
      ],
      "metadata": {
        "id": "1moqJMNYieIk"
      },
      "execution_count": 68,
      "outputs": []
    },
    {
      "cell_type": "code",
      "source": [
        "class MySimpleNN(nn.Module):\n",
        "\n",
        "  def __init__(self, num_features):\n",
        "\n",
        "    super().__init__()\n",
        "    self.linear = nn.Linear(num_features, 1)\n",
        "    self.sigmoid = nn.Sigmoid()\n",
        "\n",
        "  def forward(self, features):\n",
        "\n",
        "    out = self.linear(features)\n",
        "    out = self.sigmoid(out)\n",
        "\n",
        "    return out"
      ],
      "metadata": {
        "id": "ExREvfczqipT"
      },
      "execution_count": 44,
      "outputs": []
    },
    {
      "cell_type": "code",
      "source": [
        "learning_rate = 0.1\n",
        "epochs = 25"
      ],
      "metadata": {
        "id": "942P7Uz9qqwq"
      },
      "execution_count": 45,
      "outputs": []
    },
    {
      "cell_type": "code",
      "source": [
        "# LOSS FN\n",
        "loss_function = nn.BCELoss()"
      ],
      "metadata": {
        "id": "kWXhzYW-qqyy"
      },
      "execution_count": 66,
      "outputs": []
    },
    {
      "cell_type": "code",
      "source": [
        "model = MySimpleNN(X_train_tensor.shape[1])\n",
        "optimizer = torch.optim.SGD(model.parameters(), lr=learning_rate)"
      ],
      "metadata": {
        "id": "CHHVEdDnqq1C"
      },
      "execution_count": 47,
      "outputs": []
    },
    {
      "cell_type": "code",
      "source": [
        "# model params iterate over all the trainable parameters"
      ],
      "metadata": {
        "id": "58MpUXdBqxeG"
      },
      "execution_count": 43,
      "outputs": []
    },
    {
      "cell_type": "code",
      "source": [
        "for epoch in range(epochs):\n",
        "\n",
        "  # forward pass\n",
        "  y_pred = model(X_train_tensor)\n",
        "\n",
        "  # loss calculate\n",
        "  loss = loss_function(y_pred, y_train_tensor.view(-1,1)) # view fn works same as reshape fn\n",
        "\n",
        "  # clear gradients\n",
        "  optimizer.zero_grad()\n",
        "\n",
        "  # backward pass\n",
        "  loss.backward()\n",
        "\n",
        "  # parameters update\n",
        "  optimizer.step()\n",
        "\n",
        "  # print loss in each epoch\n",
        "  print(f'Epoch: {epoch + 1}, Loss: {loss.item()}')"
      ],
      "metadata": {
        "colab": {
          "base_uri": "https://localhost:8080/"
        },
        "id": "W-ZFOwWXqxgJ",
        "outputId": "2ecaf383-3ad7-4a4d-962a-56774373fe63"
      },
      "execution_count": 48,
      "outputs": [
        {
          "output_type": "stream",
          "name": "stdout",
          "text": [
            "Epoch: 1, Loss: 0.867847740650177\n",
            "Epoch: 2, Loss: 0.6128309369087219\n",
            "Epoch: 3, Loss: 0.48192206025123596\n",
            "Epoch: 4, Loss: 0.4064990282058716\n",
            "Epoch: 5, Loss: 0.3574890196323395\n",
            "Epoch: 6, Loss: 0.3228521943092346\n",
            "Epoch: 7, Loss: 0.2968803644180298\n",
            "Epoch: 8, Loss: 0.2765441834926605\n",
            "Epoch: 9, Loss: 0.26009097695350647\n",
            "Epoch: 10, Loss: 0.2464364469051361\n",
            "Epoch: 11, Loss: 0.23487308621406555\n",
            "Epoch: 12, Loss: 0.22491881251335144\n",
            "Epoch: 13, Loss: 0.21623308956623077\n",
            "Epoch: 14, Loss: 0.20856814086437225\n",
            "Epoch: 15, Loss: 0.20173895359039307\n",
            "Epoch: 16, Loss: 0.19560426473617554\n",
            "Epoch: 17, Loss: 0.19005419313907623\n",
            "Epoch: 18, Loss: 0.18500174582004547\n",
            "Epoch: 19, Loss: 0.18037717044353485\n",
            "Epoch: 20, Loss: 0.17612358927726746\n",
            "Epoch: 21, Loss: 0.172194242477417\n",
            "Epoch: 22, Loss: 0.16855023801326752\n",
            "Epoch: 23, Loss: 0.16515891253948212\n",
            "Epoch: 24, Loss: 0.16199257969856262\n",
            "Epoch: 25, Loss: 0.15902763605117798\n"
          ]
        }
      ]
    },
    {
      "cell_type": "code",
      "source": [
        "# model evaluation\n",
        "with torch.no_grad():\n",
        "  y_pred = model.forward(X_test_tensor)\n",
        "  y_pred = (y_pred > 0.5).float()\n",
        "  accuracy = (y_pred == y_test_tensor).float().mean()\n",
        "  print(f'Accuracy: {accuracy.item()}')"
      ],
      "metadata": {
        "colab": {
          "base_uri": "https://localhost:8080/"
        },
        "id": "Vset40O7qxjT",
        "outputId": "9200cdb3-798f-474f-910a-783adea90226"
      },
      "execution_count": 49,
      "outputs": [
        {
          "output_type": "stream",
          "name": "stdout",
          "text": [
            "Accuracy: 0.5124653577804565\n"
          ]
        }
      ]
    },
    {
      "cell_type": "markdown",
      "source": [
        "# USING DATASET AND DATA LOADER"
      ],
      "metadata": {
        "id": "54rBi91Avr2G"
      }
    },
    {
      "cell_type": "code",
      "source": [
        "from sklearn.datasets import make_classification\n",
        "\n",
        "X, y = make_classification(\n",
        "    n_samples=10,       # Number of samples\n",
        "    n_features=2,       # Number of features\n",
        "    n_informative=2,    # Number of informative features\n",
        "    n_redundant=0,      # Number of redundant features\n",
        "    n_classes=2,        # Number of classes\n",
        "    random_state=42     # For reproducibility\n",
        ")"
      ],
      "metadata": {
        "id": "87Fjby7Tqq3Y"
      },
      "execution_count": 50,
      "outputs": []
    },
    {
      "cell_type": "code",
      "source": [
        "X = torch.tensor(X, dtype=torch.float32)\n",
        "y = torch.tensor(y, dtype=torch.long)"
      ],
      "metadata": {
        "id": "rDUJfp_0qq6y"
      },
      "execution_count": 51,
      "outputs": []
    },
    {
      "cell_type": "code",
      "source": [
        "from torch.utils.data import Dataset, DataLoader"
      ],
      "metadata": {
        "id": "5ERnDTervzjy"
      },
      "execution_count": 52,
      "outputs": []
    },
    {
      "cell_type": "code",
      "source": [
        "class CustomDataset(Dataset):\n",
        "  def __init__(self, features, labels):\n",
        "    self.features = features\n",
        "    self.labels = labels\n",
        "\n",
        "  def __len__(self):\n",
        "    return len(self.features)\n",
        "\n",
        "  def __getitem__(self, idx):\n",
        "    return self.features[idx], self.labels[idx]"
      ],
      "metadata": {
        "id": "dE2gb0Amvzma"
      },
      "execution_count": 54,
      "outputs": []
    },
    {
      "cell_type": "code",
      "source": [
        "dataset = CustomDataset(X,y)"
      ],
      "metadata": {
        "id": "vOIONxqivzot"
      },
      "execution_count": 57,
      "outputs": []
    },
    {
      "cell_type": "code",
      "source": [
        "dataset[1]"
      ],
      "metadata": {
        "colab": {
          "base_uri": "https://localhost:8080/"
        },
        "id": "sTq6AIhbvzsO",
        "outputId": "a575f92e-a197-4796-838a-fed2de008ee4"
      },
      "execution_count": 58,
      "outputs": [
        {
          "output_type": "execute_result",
          "data": {
            "text/plain": [
              "(tensor([-1.1402, -0.8388]), tensor(0))"
            ]
          },
          "metadata": {},
          "execution_count": 58
        }
      ]
    },
    {
      "cell_type": "code",
      "source": [
        "dataloader = DataLoader(dataset, batch_size=2, shuffle=True)"
      ],
      "metadata": {
        "id": "zwwBJarZv0Cw"
      },
      "execution_count": 59,
      "outputs": []
    },
    {
      "cell_type": "code",
      "source": [
        "for batch_features, batch_labels in dataloader:\n",
        "  print(batch_features)\n",
        "  print(batch_labels)"
      ],
      "metadata": {
        "colab": {
          "base_uri": "https://localhost:8080/"
        },
        "id": "t8NpXkw0v0GR",
        "outputId": "e9ec3d4e-672d-4e5d-e332-32406391dee6"
      },
      "execution_count": 64,
      "outputs": [
        {
          "output_type": "stream",
          "name": "stdout",
          "text": [
            "tensor([[ 1.0683, -0.9701],\n",
            "        [-0.5872, -1.9717]])\n",
            "tensor([1, 0])\n",
            "tensor([[-0.7206, -0.9606],\n",
            "        [-1.9629, -0.9923]])\n",
            "tensor([0, 0])\n",
            "tensor([[-2.8954,  1.9769],\n",
            "        [ 1.7774,  1.5116]])\n",
            "tensor([0, 1])\n",
            "tensor([[ 1.8997,  0.8344],\n",
            "        [-1.1402, -0.8388]])\n",
            "tensor([1, 0])\n",
            "tensor([[-0.9382, -0.5430],\n",
            "        [ 1.7273, -1.1858]])\n",
            "tensor([1, 1])\n"
          ]
        }
      ]
    },
    {
      "cell_type": "code",
      "source": [
        "train_dataset = CustomDataset(X_train_tensor, y_train_tensor)\n",
        "test_dataset = CustomDataset(X_test_tensor, y_test_tensor)"
      ],
      "metadata": {
        "id": "hL2-wJ4byvRe"
      },
      "execution_count": 69,
      "outputs": []
    },
    {
      "cell_type": "code",
      "source": [
        "train_loader = DataLoader(train_dataset, batch_size=32, shuffle=True)\n",
        "test_loader = DataLoader(test_dataset, batch_size=32, shuffle=True)"
      ],
      "metadata": {
        "id": "cb-AYXDQyzU0"
      },
      "execution_count": 70,
      "outputs": []
    },
    {
      "cell_type": "code",
      "source": [
        "class MySimpleNN(nn.Module):\n",
        "\n",
        "  def __init__(self, num_features):\n",
        "\n",
        "    super().__init__()\n",
        "    self.linear = nn.Linear(num_features, 1)\n",
        "    self.sigmoid = nn.Sigmoid()\n",
        "\n",
        "  def forward(self, features):\n",
        "\n",
        "    out = self.linear(features)\n",
        "    out = self.sigmoid(out)\n",
        "\n",
        "    return out\n",
        "\n",
        "learning_rate = 0.1\n",
        "epochs = 25\n",
        "\n",
        "model = MySimpleNN(X_train_tensor.shape[1])\n",
        "optimizer = torch.optim.SGD(model.parameters(), lr=learning_rate)"
      ],
      "metadata": {
        "id": "ckQe6-jhxlDT"
      },
      "execution_count": 67,
      "outputs": []
    },
    {
      "cell_type": "code",
      "source": [
        "# define loop\n",
        "for epoch in range(epochs):\n",
        "\n",
        "  for batch_features, batch_labels in train_loader:  # using data loader\n",
        "\n",
        "    # forward pass\n",
        "    y_pred = model(batch_features)\n",
        "\n",
        "    # loss calculate\n",
        "    loss = loss_function(y_pred, batch_labels.view(-1,1))\n",
        "\n",
        "    # clear gradients\n",
        "    optimizer.zero_grad()\n",
        "\n",
        "    # backward pass\n",
        "    loss.backward()\n",
        "\n",
        "    # parameters update\n",
        "    optimizer.step()\n",
        "\n",
        "  # print loss in each epoch\n",
        "  print(f'Epoch: {epoch + 1}, Loss: {loss.item()}')"
      ],
      "metadata": {
        "colab": {
          "base_uri": "https://localhost:8080/"
        },
        "id": "fJFh0okvxlGC",
        "outputId": "2bbd7fc8-698c-4354-b29d-305420b2cd42"
      },
      "execution_count": 71,
      "outputs": [
        {
          "output_type": "stream",
          "name": "stdout",
          "text": [
            "Epoch: 1, Loss: 0.23138652741909027\n",
            "Epoch: 2, Loss: 0.39962345361709595\n",
            "Epoch: 3, Loss: 0.08191197365522385\n",
            "Epoch: 4, Loss: 0.07616198062896729\n",
            "Epoch: 5, Loss: 0.20192648470401764\n",
            "Epoch: 6, Loss: 0.05171097069978714\n",
            "Epoch: 7, Loss: 0.14833010733127594\n",
            "Epoch: 8, Loss: 0.06774603575468063\n",
            "Epoch: 9, Loss: 0.024937370792031288\n",
            "Epoch: 10, Loss: 0.044459518045186996\n",
            "Epoch: 11, Loss: 0.02803844027221203\n",
            "Epoch: 12, Loss: 0.027358869090676308\n",
            "Epoch: 13, Loss: 0.0032660390716046095\n",
            "Epoch: 14, Loss: 0.03386712819337845\n",
            "Epoch: 15, Loss: 0.013295295648276806\n",
            "Epoch: 16, Loss: 0.158213809132576\n",
            "Epoch: 17, Loss: 0.009312567301094532\n",
            "Epoch: 18, Loss: 0.03897556662559509\n",
            "Epoch: 19, Loss: 0.0689634457230568\n",
            "Epoch: 20, Loss: 0.08398980647325516\n",
            "Epoch: 21, Loss: 0.005194388329982758\n",
            "Epoch: 22, Loss: 0.09775925427675247\n",
            "Epoch: 23, Loss: 0.11873970180749893\n",
            "Epoch: 24, Loss: 0.032637644559144974\n",
            "Epoch: 25, Loss: 0.06386034935712814\n"
          ]
        }
      ]
    },
    {
      "cell_type": "code",
      "source": [
        "# model evaluation\n",
        "with torch.no_grad():\n",
        "  y_pred = model.forward(X_test_tensor)\n",
        "  y_pred = (y_pred > 0.5).float()\n",
        "  accuracy = (y_pred == y_test_tensor).float().mean()\n",
        "  print(f'Accuracy: {accuracy.item()}')"
      ],
      "metadata": {
        "colab": {
          "base_uri": "https://localhost:8080/"
        },
        "id": "9AKKJd8wxlI_",
        "outputId": "03fdfa82-3b14-4774-8d69-48e9e0928b47"
      },
      "execution_count": 72,
      "outputs": [
        {
          "output_type": "stream",
          "name": "stdout",
          "text": [
            "Accuracy: 0.5584795475006104\n"
          ]
        }
      ]
    },
    {
      "cell_type": "code",
      "source": [],
      "metadata": {
        "id": "-6JRnoaVxlL-"
      },
      "execution_count": null,
      "outputs": []
    },
    {
      "cell_type": "code",
      "source": [],
      "metadata": {
        "id": "N9HnIoRqxlOi"
      },
      "execution_count": null,
      "outputs": []
    },
    {
      "cell_type": "code",
      "source": [],
      "metadata": {
        "id": "5FxTge-BxlR6"
      },
      "execution_count": null,
      "outputs": []
    }
  ]
}